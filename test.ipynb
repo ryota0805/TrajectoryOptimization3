{
 "cells": [
  {
   "cell_type": "code",
   "execution_count": 4,
   "metadata": {},
   "outputs": [
    {
     "name": "stdout",
     "output_type": "stream",
     "text": [
      "[100   0   1   2   3]\n"
     ]
    }
   ],
   "source": [
    "import numpy as np\n",
    "\n",
    "a = [0, 1, 2, 3]\n",
    "\n",
    "b = np.insert(a, 0, 100)\n",
    "\n",
    "print(b)"
   ]
  },
  {
   "cell_type": "code",
   "execution_count": 5,
   "metadata": {},
   "outputs": [
    {
     "name": "stdout",
     "output_type": "stream",
     "text": [
      "[<function f at 0x000001B78D1268C0> <function g at 0x000001B78D2B45E0>]\n"
     ]
    }
   ],
   "source": [
    "def f(x):\n",
    "    return x ** 2\n",
    "\n",
    "def g(x):\n",
    "    return x ** 3\n",
    "\n",
    "func = np.array([f, g])\n",
    "\n",
    "print(func)"
   ]
  },
  {
   "cell_type": "code",
   "execution_count": 6,
   "metadata": {},
   "outputs": [
    {
     "name": "stdout",
     "output_type": "stream",
     "text": [
      "9\n"
     ]
    }
   ],
   "source": [
    "print(func[0](3))"
   ]
  },
  {
   "cell_type": "code",
   "execution_count": 37,
   "metadata": {},
   "outputs": [
    {
     "data": {
      "text/plain": [
       "9"
      ]
     },
     "execution_count": 37,
     "metadata": {},
     "output_type": "execute_result"
    }
   ],
   "source": [
    "a = [[] for i in range(4)]\n",
    "a[0].append(f)\n",
    "a[0][0](3)"
   ]
  },
  {
   "cell_type": "code",
   "execution_count": 38,
   "metadata": {},
   "outputs": [],
   "source": [
    "obstacle_list = [(10, -1, 2), (20, 1, 2)]"
   ]
  },
  {
   "cell_type": "code",
   "execution_count": 39,
   "metadata": {},
   "outputs": [
    {
     "data": {
      "text/plain": [
       "20"
      ]
     },
     "execution_count": 39,
     "metadata": {},
     "output_type": "execute_result"
    }
   ],
   "source": [
    "obstacle_list[1][0]"
   ]
  },
  {
   "cell_type": "code",
   "execution_count": 46,
   "metadata": {},
   "outputs": [],
   "source": [
    "def a(x):\n",
    "    return x ** 2"
   ]
  },
  {
   "cell_type": "code",
   "execution_count": 47,
   "metadata": {},
   "outputs": [],
   "source": [
    "a = a(3)"
   ]
  },
  {
   "cell_type": "code",
   "execution_count": 48,
   "metadata": {},
   "outputs": [
    {
     "name": "stdout",
     "output_type": "stream",
     "text": [
      "9\n"
     ]
    }
   ],
   "source": [
    "print(a)"
   ]
  },
  {
   "cell_type": "code",
   "execution_count": 86,
   "metadata": {},
   "outputs": [],
   "source": [
    "import scipy.optimize as optimize\n",
    "import numpy as np"
   ]
  },
  {
   "cell_type": "code",
   "execution_count": 118,
   "metadata": {},
   "outputs": [],
   "source": [
    "def func(x):\n",
    "    sum = 0\n",
    "    for i in range(2):\n",
    "        sum += x[i]**2\n",
    "    return sum\n",
    "\n",
    "def func1(x):\n",
    "    return np.cos(x[0])\n",
    "\n",
    "x0 = [1, 0]\n",
    "\n",
    "def f(x):\n",
    "    return -np.cos(x[0]) ** 2 - np.sin(x[1]) ** 2 + 1\n",
    "\n",
    "\n",
    "constraints = [{'type': 'ineq', 'fun': f}]\n",
    "\n",
    "bounds = [(None, None), (None, None)]\n",
    "\n",
    "result = optimize.minimize(func1, x0, method='SLSQP', constraints=constraints)\n",
    "\n"
   ]
  },
  {
   "cell_type": "code",
   "execution_count": 119,
   "metadata": {},
   "outputs": [
    {
     "data": {
      "text/plain": [
       "     fun: -0.9999996232241314\n",
       "     jac: array([0.00086808, 0.        ])\n",
       " message: 'Optimization terminated successfully'\n",
       "    nfev: 36\n",
       "     nit: 12\n",
       "    njev: 12\n",
       "  status: 0\n",
       " success: True\n",
       "       x: array([ 3.14246073e+00, -3.12275491e-09])"
      ]
     },
     "execution_count": 119,
     "metadata": {},
     "output_type": "execute_result"
    }
   ],
   "source": [
    "result"
   ]
  },
  {
   "cell_type": "code",
   "execution_count": 70,
   "metadata": {},
   "outputs": [],
   "source": [
    "functions = {}\n",
    "\n",
    "for i in range(5):\n",
    "    def f(x):\n",
    "        return x ** i\n",
    "    functions['f'+str(i)] = f\n",
    "    \n"
   ]
  },
  {
   "cell_type": "code",
   "execution_count": 72,
   "metadata": {},
   "outputs": [
    {
     "name": "stdout",
     "output_type": "stream",
     "text": [
      "16\n",
      "16\n",
      "16\n",
      "16\n",
      "16\n"
     ]
    }
   ],
   "source": [
    "print(functions['f0'](2)) # 1\n",
    "print(functions['f1'](2)) # 2\n",
    "print(functions['f2'](2)) # 4\n",
    "print(functions['f3'](2)) # 8\n",
    "print(functions['f4'](2)) # 16"
   ]
  },
  {
   "cell_type": "code",
   "execution_count": 81,
   "metadata": {},
   "outputs": [],
   "source": [
    "# 関数名を自動生成するためのヘルパー関数\n",
    "def generate_function_name(i):\n",
    "    return f\"function_{i}\"\n",
    "global a\n",
    "a = [500, 300, 100]\n",
    "# 100個以上の関数を自動生成する\n",
    "for i in range(100):\n",
    "    function_name = generate_function_name(i)\n",
    "    function_definition = f\"def {function_name}(x): return x + a[1] + {i}\"\n",
    "    exec(function_definition)"
   ]
  },
  {
   "cell_type": "code",
   "execution_count": 82,
   "metadata": {},
   "outputs": [
    {
     "name": "stdout",
     "output_type": "stream",
     "text": [
      "301\n",
      "302\n",
      "400\n"
     ]
    }
   ],
   "source": [
    "# 定義した関数を使用する\n",
    "print(function_0(1))   # 1\n",
    "print(function_1(1))   # 2\n",
    "print(function_99(1))  # 100"
   ]
  },
  {
   "cell_type": "code",
   "execution_count": 83,
   "metadata": {},
   "outputs": [
    {
     "name": "stdout",
     "output_type": "stream",
     "text": [
      "1\n",
      "2\n",
      "100\n"
     ]
    }
   ],
   "source": [
    "functions = []\n",
    "\n",
    "# 関数名を自動生成するためのヘルパー関数\n",
    "def generate_function_name(i):\n",
    "    return f\"function_{i}\"\n",
    "\n",
    "# 100個以上の関数を自動生成する\n",
    "for i in range(100):\n",
    "    function_name = generate_function_name(i)\n",
    "    function_definition = f\"def {function_name}(x): return x + {i}\"\n",
    "    exec(function_definition)\n",
    "    functions.append(eval(function_name))\n",
    "\n",
    "# 定義した関数を使用する\n",
    "print(functions[0](1))   # 1\n",
    "print(functions[1](1))   # 2\n",
    "print(functions[99](1))  # 100"
   ]
  },
  {
   "cell_type": "code",
   "execution_count": 84,
   "metadata": {},
   "outputs": [
    {
     "data": {
      "text/plain": [
       "[<function __main__.function_0(x)>,\n",
       " <function __main__.function_1(x)>,\n",
       " <function __main__.function_2(x)>,\n",
       " <function __main__.function_3(x)>,\n",
       " <function __main__.function_4(x)>,\n",
       " <function __main__.function_5(x)>,\n",
       " <function __main__.function_6(x)>,\n",
       " <function __main__.function_7(x)>,\n",
       " <function __main__.function_8(x)>,\n",
       " <function __main__.function_9(x)>,\n",
       " <function __main__.function_10(x)>,\n",
       " <function __main__.function_11(x)>,\n",
       " <function __main__.function_12(x)>,\n",
       " <function __main__.function_13(x)>,\n",
       " <function __main__.function_14(x)>,\n",
       " <function __main__.function_15(x)>,\n",
       " <function __main__.function_16(x)>,\n",
       " <function __main__.function_17(x)>,\n",
       " <function __main__.function_18(x)>,\n",
       " <function __main__.function_19(x)>,\n",
       " <function __main__.function_20(x)>,\n",
       " <function __main__.function_21(x)>,\n",
       " <function __main__.function_22(x)>,\n",
       " <function __main__.function_23(x)>,\n",
       " <function __main__.function_24(x)>,\n",
       " <function __main__.function_25(x)>,\n",
       " <function __main__.function_26(x)>,\n",
       " <function __main__.function_27(x)>,\n",
       " <function __main__.function_28(x)>,\n",
       " <function __main__.function_29(x)>,\n",
       " <function __main__.function_30(x)>,\n",
       " <function __main__.function_31(x)>,\n",
       " <function __main__.function_32(x)>,\n",
       " <function __main__.function_33(x)>,\n",
       " <function __main__.function_34(x)>,\n",
       " <function __main__.function_35(x)>,\n",
       " <function __main__.function_36(x)>,\n",
       " <function __main__.function_37(x)>,\n",
       " <function __main__.function_38(x)>,\n",
       " <function __main__.function_39(x)>,\n",
       " <function __main__.function_40(x)>,\n",
       " <function __main__.function_41(x)>,\n",
       " <function __main__.function_42(x)>,\n",
       " <function __main__.function_43(x)>,\n",
       " <function __main__.function_44(x)>,\n",
       " <function __main__.function_45(x)>,\n",
       " <function __main__.function_46(x)>,\n",
       " <function __main__.function_47(x)>,\n",
       " <function __main__.function_48(x)>,\n",
       " <function __main__.function_49(x)>,\n",
       " <function __main__.function_50(x)>,\n",
       " <function __main__.function_51(x)>,\n",
       " <function __main__.function_52(x)>,\n",
       " <function __main__.function_53(x)>,\n",
       " <function __main__.function_54(x)>,\n",
       " <function __main__.function_55(x)>,\n",
       " <function __main__.function_56(x)>,\n",
       " <function __main__.function_57(x)>,\n",
       " <function __main__.function_58(x)>,\n",
       " <function __main__.function_59(x)>,\n",
       " <function __main__.function_60(x)>,\n",
       " <function __main__.function_61(x)>,\n",
       " <function __main__.function_62(x)>,\n",
       " <function __main__.function_63(x)>,\n",
       " <function __main__.function_64(x)>,\n",
       " <function __main__.function_65(x)>,\n",
       " <function __main__.function_66(x)>,\n",
       " <function __main__.function_67(x)>,\n",
       " <function __main__.function_68(x)>,\n",
       " <function __main__.function_69(x)>,\n",
       " <function __main__.function_70(x)>,\n",
       " <function __main__.function_71(x)>,\n",
       " <function __main__.function_72(x)>,\n",
       " <function __main__.function_73(x)>,\n",
       " <function __main__.function_74(x)>,\n",
       " <function __main__.function_75(x)>,\n",
       " <function __main__.function_76(x)>,\n",
       " <function __main__.function_77(x)>,\n",
       " <function __main__.function_78(x)>,\n",
       " <function __main__.function_79(x)>,\n",
       " <function __main__.function_80(x)>,\n",
       " <function __main__.function_81(x)>,\n",
       " <function __main__.function_82(x)>,\n",
       " <function __main__.function_83(x)>,\n",
       " <function __main__.function_84(x)>,\n",
       " <function __main__.function_85(x)>,\n",
       " <function __main__.function_86(x)>,\n",
       " <function __main__.function_87(x)>,\n",
       " <function __main__.function_88(x)>,\n",
       " <function __main__.function_89(x)>,\n",
       " <function __main__.function_90(x)>,\n",
       " <function __main__.function_91(x)>,\n",
       " <function __main__.function_92(x)>,\n",
       " <function __main__.function_93(x)>,\n",
       " <function __main__.function_94(x)>,\n",
       " <function __main__.function_95(x)>,\n",
       " <function __main__.function_96(x)>,\n",
       " <function __main__.function_97(x)>,\n",
       " <function __main__.function_98(x)>,\n",
       " <function __main__.function_99(x)>]"
      ]
     },
     "execution_count": 84,
     "metadata": {},
     "output_type": "execute_result"
    }
   ],
   "source": [
    "functions"
   ]
  },
  {
   "cell_type": "code",
   "execution_count": 6,
   "metadata": {},
   "outputs": [
    {
     "data": {
      "text/plain": [
       "array([1, 4, 9])"
      ]
     },
     "execution_count": 6,
     "metadata": {},
     "output_type": "execute_result"
    }
   ],
   "source": [
    "import numpy as np\n",
    "\n",
    "def test(x):\n",
    "    ans = np.array([0, 0, 0])\n",
    "    for i in range(len(x)):\n",
    "        ans[i] = x[i] ** 2\n",
    "    return ans\n",
    "\n",
    "test(np.array([1, 2, 3]))"
   ]
  },
  {
   "cell_type": "code",
   "execution_count": 12,
   "metadata": {},
   "outputs": [
    {
     "data": {
      "text/plain": [
       "2"
      ]
     },
     "execution_count": 12,
     "metadata": {},
     "output_type": "execute_result"
    }
   ],
   "source": [
    "ans = [1, 2, [3, 4, 5]]\n",
    "ans[1]\n"
   ]
  },
  {
   "cell_type": "code",
   "execution_count": 11,
   "metadata": {},
   "outputs": [
    {
     "data": {
      "text/plain": [
       "array([0, 0, 0])"
      ]
     },
     "execution_count": 11,
     "metadata": {},
     "output_type": "execute_result"
    }
   ],
   "source": [
    "ans = np.array([[0, 0, 0], [1, 1, 1], [2, 2, 2]])\n",
    "ans[0, :]"
   ]
  },
  {
   "cell_type": "code",
   "execution_count": 28,
   "metadata": {},
   "outputs": [
    {
     "name": "stdout",
     "output_type": "stream",
     "text": [
      "Optimal solution:\n",
      "[-1.2 -0.6]\n",
      "Optimal value:\n",
      "1.8000000000000003\n"
     ]
    }
   ],
   "source": [
    "import numpy as np\n",
    "from scipy.optimize import minimize\n",
    "\n",
    "# 目的関数（最小化対象の関数）\n",
    "def objective_function(x):\n",
    "    return x[0]**2 + x[1]**2\n",
    "\n",
    "# 制約関数\n",
    "def constraint_function(x, *args):\n",
    "    return args[0] * x[0] + args[1][0] * x[1] + args[1][1]\n",
    "\n",
    "# 初期値\n",
    "x0 = np.array([0.5, 0.5])\n",
    "\n",
    "# 制約関数に渡す引数\n",
    "constraint_args = {'a': 2, 'b': -1}\n",
    "\n",
    "# 制約定義\n",
    "constraints = [{'type': 'eq', 'fun': constraint_function, 'args': [2, [1, 3]]}]\n",
    "\n",
    "# 最適化を実行\n",
    "result = minimize(objective_function, x0, constraints=constraints)\n",
    "\n",
    "print(\"Optimal solution:\")\n",
    "print(result.x)  # 最適解の表示\n",
    "print(\"Optimal value:\")\n",
    "print(result.fun)  # 最適値の表示"
   ]
  },
  {
   "cell_type": "code",
   "execution_count": 25,
   "metadata": {},
   "outputs": [
    {
     "data": {
      "text/plain": [
       "array([[100,   0,   0],\n",
       "       [  1,   1,   1],\n",
       "       [  2,   2,   2]])"
      ]
     },
     "execution_count": 25,
     "metadata": {},
     "output_type": "execute_result"
    }
   ],
   "source": [
    "ans = np.array([[0, 0, 0], [1, 1, 1], [2, 2, 2]])\n",
    "ans[0, 0] = 100\n",
    "ans"
   ]
  },
  {
   "cell_type": "code",
   "execution_count": null,
   "metadata": {},
   "outputs": [],
   "source": []
  }
 ],
 "metadata": {
  "kernelspec": {
   "display_name": "Python 3",
   "language": "python",
   "name": "python3"
  },
  "language_info": {
   "codemirror_mode": {
    "name": "ipython",
    "version": 3
   },
   "file_extension": ".py",
   "mimetype": "text/x-python",
   "name": "python",
   "nbconvert_exporter": "python",
   "pygments_lexer": "ipython3",
   "version": "3.10.7"
  },
  "orig_nbformat": 4
 },
 "nbformat": 4,
 "nbformat_minor": 2
}
